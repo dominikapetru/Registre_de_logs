{
 "cells": [
  {
   "cell_type": "markdown",
   "id": "0e338c50-cb8b-4791-9c8a-63801f6e058d",
   "metadata": {
    "tags": []
   },
   "source": [
    "#Sprint 5, T01"
   ]
  },
  {
   "cell_type": "markdown",
   "id": "f9991299-bac9-48b4-9070-52fe605200b8",
   "metadata": {},
   "source": [
    "##Nivell 1"
   ]
  },
  {
   "cell_type": "markdown",
   "id": "bc33a34f-ee95-4303-b0a1-0935def0f3f4",
   "metadata": {},
   "source": [
    "###Execise 1 - standadize, identify and list all variables in \"Web_access_log-akumenius.com\""
   ]
  },
  {
   "cell_type": "code",
   "execution_count": 1,
   "id": "353d74db-1c6f-454c-9528-22ca9b42be4e",
   "metadata": {},
   "outputs": [],
   "source": [
    "import pandas as pd\n",
    "import numpy as np\n",
    "import re"
   ]
  },
  {
   "cell_type": "code",
   "execution_count": 110,
   "id": "216c8fd6-8ef1-4271-a817-1ced6ae07696",
   "metadata": {},
   "outputs": [
    {
     "data": {
      "text/html": [
       "<div>\n",
       "<style scoped>\n",
       "    .dataframe tbody tr th:only-of-type {\n",
       "        vertical-align: middle;\n",
       "    }\n",
       "\n",
       "    .dataframe tbody tr th {\n",
       "        vertical-align: top;\n",
       "    }\n",
       "\n",
       "    .dataframe thead th {\n",
       "        text-align: right;\n",
       "    }\n",
       "</style>\n",
       "<table border=\"1\" class=\"dataframe\">\n",
       "  <thead>\n",
       "    <tr style=\"text-align: right;\">\n",
       "      <th></th>\n",
       "      <th>records</th>\n",
       "    </tr>\n",
       "  </thead>\n",
       "  <tbody>\n",
       "    <tr>\n",
       "      <th>50</th>\n",
       "      <td>www.akumenius.com 66.249.76.216 - - [23/Feb/2014:03:11:15 +0100] \"GET /hoteles-baratos/ofertas-hotel-Hilton-London-Hyde-Park-en-Bayswater-7566b-destinos.html HTTP/1.1\" 404 3100 \"-\" \"Mozilla/5.0 (compatible; Googlebot/2.1; +http://www.google.com/bot.html)\" VLOG=-</td>\n",
       "    </tr>\n",
       "    <tr>\n",
       "      <th>51</th>\n",
       "      <td>www.akumenius.com 66.249.76.216 - - [23/Feb/2014:03:11:16 +0100] \"GET /destinos-baratos/destinosEstrelles/hoteles-en-Schmiedeberg_ALEMANIA-con-5-estrellas HTTP/1.1\" 200 8817 \"-\" \"Mozilla/5.0 (compatible; Googlebot/2.1; +http://www.google.com/bot.html)\" VLOG=-</td>\n",
       "    </tr>\n",
       "  </tbody>\n",
       "</table>\n",
       "</div>"
      ],
      "text/plain": [
       "                                                                                                                                                                                                                                                                   records\n",
       "50  www.akumenius.com 66.249.76.216 - - [23/Feb/2014:03:11:15 +0100] \"GET /hoteles-baratos/ofertas-hotel-Hilton-London-Hyde-Park-en-Bayswater-7566b-destinos.html HTTP/1.1\" 404 3100 \"-\" \"Mozilla/5.0 (compatible; Googlebot/2.1; +http://www.google.com/bot.html)\" VLOG=-\n",
       "51     www.akumenius.com 66.249.76.216 - - [23/Feb/2014:03:11:16 +0100] \"GET /destinos-baratos/destinosEstrelles/hoteles-en-Schmiedeberg_ALEMANIA-con-5-estrellas HTTP/1.1\" 200 8817 \"-\" \"Mozilla/5.0 (compatible; Googlebot/2.1; +http://www.google.com/bot.html)\" VLOG=-"
      ]
     },
     "execution_count": 110,
     "metadata": {},
     "output_type": "execute_result"
    }
   ],
   "source": [
    "data = pd.read_csv('Web_access_log-akumenius.com.txt', names=['records'])#txt file open with read_csv\n",
    "pd.set_option('display.max_colwidth',None)#to get all information for each element\n",
    "data[50:52]#show a sample of records"
   ]
  },
  {
   "cell_type": "markdown",
   "id": "17b97624-4302-479d-bbb8-88d23d236fd9",
   "metadata": {},
   "source": [
    "####1. Divide informatin in columns"
   ]
  },
  {
   "cell_type": "code",
   "execution_count": 111,
   "id": "1892ce7e-fb4e-49fc-abe9-f953a1934752",
   "metadata": {},
   "outputs": [
    {
     "data": {
      "text/html": [
       "<div>\n",
       "<style scoped>\n",
       "    .dataframe tbody tr th:only-of-type {\n",
       "        vertical-align: middle;\n",
       "    }\n",
       "\n",
       "    .dataframe tbody tr th {\n",
       "        vertical-align: top;\n",
       "    }\n",
       "\n",
       "    .dataframe thead th {\n",
       "        text-align: right;\n",
       "    }\n",
       "</style>\n",
       "<table border=\"1\" class=\"dataframe\">\n",
       "  <thead>\n",
       "    <tr style=\"text-align: right;\">\n",
       "      <th></th>\n",
       "      <th>records</th>\n",
       "      <th>web</th>\n",
       "      <th>info</th>\n",
       "    </tr>\n",
       "  </thead>\n",
       "  <tbody>\n",
       "    <tr>\n",
       "      <th>10</th>\n",
       "      <td>localhost 127.0.0.1 - - [23/Feb/2014:03:10:31 +0100] \"OPTIONS * HTTP/1.0\" 200 - \"-\" \"Apache (internal dummy connection)\" VLOG=-</td>\n",
       "      <td>localhost</td>\n",
       "      <td>127.0.0.1 - - [23/Feb/2014:03:10:31 +0100] \"OPTIONS * HTTP/1.0\" 200 - \"-\" \"Apache (internal dummy connection)\" VLOG=-</td>\n",
       "    </tr>\n",
       "    <tr>\n",
       "      <th>11</th>\n",
       "      <td>localhost 127.0.0.1 - - [23/Feb/2014:03:10:31 +0100] \"OPTIONS * HTTP/1.0\" 200 - \"-\" \"Apache (internal dummy connection)\" VLOG=-</td>\n",
       "      <td>localhost</td>\n",
       "      <td>127.0.0.1 - - [23/Feb/2014:03:10:31 +0100] \"OPTIONS * HTTP/1.0\" 200 - \"-\" \"Apache (internal dummy connection)\" VLOG=-</td>\n",
       "    </tr>\n",
       "  </tbody>\n",
       "</table>\n",
       "</div>"
      ],
      "text/plain": [
       "                                                                                                                            records  \\\n",
       "10  localhost 127.0.0.1 - - [23/Feb/2014:03:10:31 +0100] \"OPTIONS * HTTP/1.0\" 200 - \"-\" \"Apache (internal dummy connection)\" VLOG=-   \n",
       "11  localhost 127.0.0.1 - - [23/Feb/2014:03:10:31 +0100] \"OPTIONS * HTTP/1.0\" 200 - \"-\" \"Apache (internal dummy connection)\" VLOG=-   \n",
       "\n",
       "          web  \\\n",
       "10  localhost   \n",
       "11  localhost   \n",
       "\n",
       "                                                                                                                     info  \n",
       "10  127.0.0.1 - - [23/Feb/2014:03:10:31 +0100] \"OPTIONS * HTTP/1.0\" 200 - \"-\" \"Apache (internal dummy connection)\" VLOG=-  \n",
       "11  127.0.0.1 - - [23/Feb/2014:03:10:31 +0100] \"OPTIONS * HTTP/1.0\" 200 - \"-\" \"Apache (internal dummy connection)\" VLOG=-  "
      ]
     },
     "execution_count": 111,
     "metadata": {},
     "output_type": "execute_result"
    }
   ],
   "source": [
    "#info about of record - localhost or web?\n",
    "data[['web','info']] = data['records'].str.split(\" \", 1, expand=True)\n",
    "data[10:12]"
   ]
  },
  {
   "cell_type": "code",
   "execution_count": 112,
   "id": "e26d48c8-76eb-4a12-b402-24c01b96ea4b",
   "metadata": {},
   "outputs": [
    {
     "data": {
      "text/html": [
       "<div>\n",
       "<style scoped>\n",
       "    .dataframe tbody tr th:only-of-type {\n",
       "        vertical-align: middle;\n",
       "    }\n",
       "\n",
       "    .dataframe tbody tr th {\n",
       "        vertical-align: top;\n",
       "    }\n",
       "\n",
       "    .dataframe thead th {\n",
       "        text-align: right;\n",
       "    }\n",
       "</style>\n",
       "<table border=\"1\" class=\"dataframe\">\n",
       "  <thead>\n",
       "    <tr style=\"text-align: right;\">\n",
       "      <th></th>\n",
       "      <th>records</th>\n",
       "      <th>web</th>\n",
       "      <th>info</th>\n",
       "      <th>ip</th>\n",
       "    </tr>\n",
       "  </thead>\n",
       "  <tbody>\n",
       "    <tr>\n",
       "      <th>10</th>\n",
       "      <td>localhost 127.0.0.1 - - [23/Feb/2014:03:10:31 +0100] \"OPTIONS * HTTP/1.0\" 200 - \"-\" \"Apache (internal dummy connection)\" VLOG=-</td>\n",
       "      <td>localhost</td>\n",
       "      <td>[23/Feb/2014:03:10:31 +0100] \"OPTIONS * HTTP/1.0\" 200 - \"-\" \"Apache (internal dummy connection)\" VLOG=</td>\n",
       "      <td>127.0.0.1</td>\n",
       "    </tr>\n",
       "    <tr>\n",
       "      <th>11</th>\n",
       "      <td>localhost 127.0.0.1 - - [23/Feb/2014:03:10:31 +0100] \"OPTIONS * HTTP/1.0\" 200 - \"-\" \"Apache (internal dummy connection)\" VLOG=-</td>\n",
       "      <td>localhost</td>\n",
       "      <td>[23/Feb/2014:03:10:31 +0100] \"OPTIONS * HTTP/1.0\" 200 - \"-\" \"Apache (internal dummy connection)\" VLOG=</td>\n",
       "      <td>127.0.0.1</td>\n",
       "    </tr>\n",
       "  </tbody>\n",
       "</table>\n",
       "</div>"
      ],
      "text/plain": [
       "                                                                                                                            records  \\\n",
       "10  localhost 127.0.0.1 - - [23/Feb/2014:03:10:31 +0100] \"OPTIONS * HTTP/1.0\" 200 - \"-\" \"Apache (internal dummy connection)\" VLOG=-   \n",
       "11  localhost 127.0.0.1 - - [23/Feb/2014:03:10:31 +0100] \"OPTIONS * HTTP/1.0\" 200 - \"-\" \"Apache (internal dummy connection)\" VLOG=-   \n",
       "\n",
       "          web  \\\n",
       "10  localhost   \n",
       "11  localhost   \n",
       "\n",
       "                                                                                                      info  \\\n",
       "10  [23/Feb/2014:03:10:31 +0100] \"OPTIONS * HTTP/1.0\" 200 - \"-\" \"Apache (internal dummy connection)\" VLOG=   \n",
       "11  [23/Feb/2014:03:10:31 +0100] \"OPTIONS * HTTP/1.0\" 200 - \"-\" \"Apache (internal dummy connection)\" VLOG=   \n",
       "\n",
       "           ip  \n",
       "10  127.0.0.1  \n",
       "11  127.0.0.1  "
      ]
     },
     "execution_count": 112,
     "metadata": {},
     "output_type": "execute_result"
    }
   ],
   "source": [
    "#ip?\n",
    "data[['ip','info']] = data['info'].str.split(\" \", 1, expand=True)\n",
    "data['info'] = data['info'].str.strip(\"- -\")\n",
    "data[10:12]"
   ]
  },
  {
   "cell_type": "code",
   "execution_count": 113,
   "id": "87aa0b22-d7a7-4764-8b3e-05e0b1a0beef",
   "metadata": {},
   "outputs": [
    {
     "data": {
      "text/html": [
       "<div>\n",
       "<style scoped>\n",
       "    .dataframe tbody tr th:only-of-type {\n",
       "        vertical-align: middle;\n",
       "    }\n",
       "\n",
       "    .dataframe tbody tr th {\n",
       "        vertical-align: top;\n",
       "    }\n",
       "\n",
       "    .dataframe thead th {\n",
       "        text-align: right;\n",
       "    }\n",
       "</style>\n",
       "<table border=\"1\" class=\"dataframe\">\n",
       "  <thead>\n",
       "    <tr style=\"text-align: right;\">\n",
       "      <th></th>\n",
       "      <th>records</th>\n",
       "      <th>web</th>\n",
       "      <th>info</th>\n",
       "      <th>ip</th>\n",
       "      <th>time</th>\n",
       "    </tr>\n",
       "  </thead>\n",
       "  <tbody>\n",
       "    <tr>\n",
       "      <th>20</th>\n",
       "      <td>localhost 127.0.0.1 - - [23/Feb/2014:03:10:31 +0100] \"OPTIONS * HTTP/1.0\" 200 - \"-\" \"Apache (internal dummy connection)\" VLOG=-</td>\n",
       "      <td>localhost</td>\n",
       "      <td>OPTIONS * HTTP/1.0\" 200 - \"-\" \"Apache (internal dummy connection)\" VLOG=</td>\n",
       "      <td>127.0.0.1</td>\n",
       "      <td>23/Feb/2014:03:10:31 +0100</td>\n",
       "    </tr>\n",
       "    <tr>\n",
       "      <th>21</th>\n",
       "      <td>localhost 127.0.0.1 - - [23/Feb/2014:03:10:31 +0100] \"OPTIONS * HTTP/1.0\" 200 - \"-\" \"Apache (internal dummy connection)\" VLOG=-</td>\n",
       "      <td>localhost</td>\n",
       "      <td>OPTIONS * HTTP/1.0\" 200 - \"-\" \"Apache (internal dummy connection)\" VLOG=</td>\n",
       "      <td>127.0.0.1</td>\n",
       "      <td>23/Feb/2014:03:10:31 +0100</td>\n",
       "    </tr>\n",
       "  </tbody>\n",
       "</table>\n",
       "</div>"
      ],
      "text/plain": [
       "                                                                                                                            records  \\\n",
       "20  localhost 127.0.0.1 - - [23/Feb/2014:03:10:31 +0100] \"OPTIONS * HTTP/1.0\" 200 - \"-\" \"Apache (internal dummy connection)\" VLOG=-   \n",
       "21  localhost 127.0.0.1 - - [23/Feb/2014:03:10:31 +0100] \"OPTIONS * HTTP/1.0\" 200 - \"-\" \"Apache (internal dummy connection)\" VLOG=-   \n",
       "\n",
       "          web  \\\n",
       "20  localhost   \n",
       "21  localhost   \n",
       "\n",
       "                                                                        info  \\\n",
       "20  OPTIONS * HTTP/1.0\" 200 - \"-\" \"Apache (internal dummy connection)\" VLOG=   \n",
       "21  OPTIONS * HTTP/1.0\" 200 - \"-\" \"Apache (internal dummy connection)\" VLOG=   \n",
       "\n",
       "           ip                        time  \n",
       "20  127.0.0.1  23/Feb/2014:03:10:31 +0100  \n",
       "21  127.0.0.1  23/Feb/2014:03:10:31 +0100  "
      ]
     },
     "execution_count": 113,
     "metadata": {},
     "output_type": "execute_result"
    }
   ],
   "source": [
    "#time?\n",
    "data[['time','info']] = data['info'].str.split(\"\\W\\W\\W\", 1, expand=True)\n",
    "data['time'] = data['time'].str.strip(\"[\")\n",
    "data[20:22]"
   ]
  },
  {
   "cell_type": "code",
   "execution_count": 104,
   "id": "31caad4c-c779-4c9d-be2c-aeeadcc231bd",
   "metadata": {},
   "outputs": [],
   "source": [
    "data_test = data.copy()"
   ]
  }
 ],
 "metadata": {
  "kernelspec": {
   "display_name": "Python 3",
   "language": "python",
   "name": "python3"
  },
  "language_info": {
   "codemirror_mode": {
    "name": "ipython",
    "version": 3
   },
   "file_extension": ".py",
   "mimetype": "text/x-python",
   "name": "python",
   "nbconvert_exporter": "python",
   "pygments_lexer": "ipython3",
   "version": "3.8.8"
  }
 },
 "nbformat": 4,
 "nbformat_minor": 5
}
